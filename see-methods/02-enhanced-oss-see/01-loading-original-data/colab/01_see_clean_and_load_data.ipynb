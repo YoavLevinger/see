{
 "nbformat": 4,
 "nbformat_minor": 0,
 "metadata": {
  "colab": {
   "provenance": [],
   "authorship_tag": "ABX9TyNW93EFwlAw7cE4yIsal+Lm",
   "include_colab_link": true
  },
  "kernelspec": {
   "name": "python3",
   "display_name": "Python 3 (ipykernel)",
   "language": "python"
  },
  "language_info": {
   "name": "python"
  }
 },
 "cells": [
  {
   "cell_type": "markdown",
   "metadata": {
    "id": "view-in-github",
    "colab_type": "text"
   },
   "source": [
    "<a href=\"https://colab.research.google.com/github/YoavLevinger/see/blob/main/see-methods/01-software-similarity/colab/01_see_clean_and_load_data.ipynb\" target=\"_parent\"><img src=\"https://colab.research.google.com/assets/colab-badge.svg\" alt=\"Open In Colab\"/></a>"
   ]
  },
  {
   "cell_type": "markdown",
   "source": [
    "# Direct Download from GitHub"
   ],
   "metadata": {
    "id": "26UWHi9ppkvU"
   }
  },
  {
   "cell_type": "code",
   "source": "!wget -O sdee_lite.sql \"https://raw.githubusercontent.com/YoavLevinger/see/main/docs/02-follow-oss-effort-estimation/dataset/sdee_lite.sql\"",
   "metadata": {
    "colab": {
     "base_uri": "https://localhost:8080/"
    },
    "id": "pFvevrvmpVHd",
    "outputId": "7d9aca59-1841-45cc-957d-ecc2e84036d5",
    "ExecuteTime": {
     "end_time": "2025-03-21T14:01:03.967528Z",
     "start_time": "2025-03-21T14:01:03.528927Z"
    }
   },
   "outputs": [
    {
     "name": "stdout",
     "output_type": "stream",
     "text": [
      "--2025-03-21 16:01:03--  https://raw.githubusercontent.com/YoavLevinger/see/main/docs/follow-oss-effort-estimation/dataset/sdee_lite.sql\r\n",
      "Resolving raw.githubusercontent.com (raw.githubusercontent.com)... 185.199.111.133, 185.199.109.133, 185.199.108.133, ...\r\n",
      "Connecting to raw.githubusercontent.com (raw.githubusercontent.com)|185.199.111.133|:443... connected.\r\n",
      "HTTP request sent, awaiting response... 404 Not Found\r\n",
      "2025-03-21 16:01:03 ERROR 404: Not Found.\r\n",
      "\r\n"
     ]
    }
   ],
   "execution_count": 2
  },
  {
   "cell_type": "markdown",
   "source": "",
   "metadata": {
    "id": "IamqTg2GpiyU"
   }
  },
  {
   "cell_type": "code",
   "source": [
    "import re\n",
    "\n",
    "# Load SQL file\n",
    "sql_file_path = \"sdee_lite.sql\"\n",
    "\n",
    "with open(sql_file_path, \"r\", encoding=\"utf-8\") as file:\n",
    "    sql_script = file.read()\n",
    "\n",
    "# Remove MySQL-specific statements\n",
    "sql_script = re.sub(r\"ENGINE=\\w+\", \"\", sql_script)  # Remove ENGINE=\n",
    "sql_script = re.sub(r\"AUTO_INCREMENT\", \"\", sql_script)  # Remove AUTO_INCREMENT\n",
    "sql_script = re.sub(r\"DEFAULT CHARSET=\\w+\", \"\", sql_script)  # Remove CHARSET\n",
    "sql_script = re.sub(r\"COLLATE \\w+\", \"\", sql_script)  # Remove COLLATE statements\n",
    "sql_script = re.sub(r\"ON UPDATE [^,]+\", \"\", sql_script)  # Remove ON UPDATE constraints\n",
    "sql_script = re.sub(r\"UNSIGNED\", \"\", sql_script)  # Remove UNSIGNED keyword (SQLite does not support it)\n",
    "sql_script = re.sub(r\"COMMENT '.*?'\", \"\", sql_script)  # Remove COMMENTs\n",
    "sql_script = re.sub(r\"LOCK TABLES `?\\w+`? WRITE;\", \"\", sql_script, flags=re.IGNORECASE)\n",
    "sql_script = re.sub(r\"UNLOCK TABLES;\", \"\", sql_script, flags=re.IGNORECASE)\n",
    "\n",
    "# Save the cleaned SQL script\n",
    "clean_sql_path = \"/content/sdee_lite_cleaned.sql\"\n",
    "with open(clean_sql_path, \"w\", encoding=\"utf-8\") as file:\n",
    "    file.write(sql_script)\n",
    "\n",
    "print(\"SQL file cleaned and saved:\", clean_sql_path)\n"
   ],
   "metadata": {
    "colab": {
     "base_uri": "https://localhost:8080/"
    },
    "id": "OeoSA9lFqRaS",
    "outputId": "05d69090-690f-42cc-c939-f1909c6c7ad1"
   },
   "execution_count": null,
   "outputs": [
    {
     "output_type": "stream",
     "name": "stdout",
     "text": [
      "SQL file cleaned and saved: /content/sdee_lite_cleaned.sql\n"
     ]
    }
   ]
  },
  {
   "cell_type": "markdown",
   "source": [
    "Load the Cleaned SQL File into SQLite"
   ],
   "metadata": {
    "id": "4lVn5HLHrCMu"
   }
  },
  {
   "cell_type": "code",
   "source": [
    "import sqlite3\n",
    "import pandas as pd\n",
    "\n",
    "# Connect to SQLite (in-memory database)\n",
    "conn = sqlite3.connect(\":memory:\")\n",
    "cursor = conn.cursor()\n",
    "\n",
    "# Read and execute the cleaned SQL script\n",
    "with open(clean_sql_path, \"r\", encoding=\"utf-8\") as file:\n",
    "    sql_script = file.read()\n",
    "\n",
    "cursor.executescript(sql_script)\n",
    "\n",
    "print(\"Database loaded successfully!\")\n"
   ],
   "metadata": {
    "colab": {
     "base_uri": "https://localhost:8080/"
    },
    "id": "HVpsb2EPrBvu",
    "outputId": "79f2c03e-b455-49ee-b94f-571785557a74"
   },
   "execution_count": null,
   "outputs": [
    {
     "output_type": "stream",
     "name": "stdout",
     "text": [
      "Database loaded successfully!\n"
     ]
    }
   ]
  },
  {
   "cell_type": "markdown",
   "source": [
    "# List Available Tables"
   ],
   "metadata": {
    "id": "M8_5YWndqD1C"
   }
  },
  {
   "cell_type": "code",
   "source": [
    "query = \"SELECT name FROM sqlite_master WHERE type='table';\"\n",
    "tables = pd.read_sql_query(query, conn)\n",
    "print(tables)\n"
   ],
   "metadata": {
    "colab": {
     "base_uri": "https://localhost:8080/"
    },
    "id": "bt8BujT9p9bC",
    "outputId": "509ff983-a212-4eae-c83a-21c8424c5fb7"
   },
   "execution_count": null,
   "outputs": [
    {
     "output_type": "stream",
     "name": "stdout",
     "text": [
      "                  name\n",
      "0      avg_repo_effort\n",
      "1             features\n",
      "2         release_info\n",
      "3  release_wise_effort\n",
      "4     repo_info_pv_vec\n"
     ]
    }
   ]
  },
  {
   "cell_type": "markdown",
   "source": [
    "# Load Data from Key Tables\n"
   ],
   "metadata": {
    "id": "-ptePvSurrut"
   }
  },
  {
   "cell_type": "code",
   "source": [
    "# Load vectorized project descriptions\n",
    "query = \"SELECT * FROM repo_info_pv_vec LIMIT 5;\"\n",
    "df_repo_info = pd.read_sql_query(query, conn)\n",
    "print(df_repo_info.head())\n",
    "\n",
    "# Load effort estimation data\n",
    "query = \"SELECT * FROM avg_repo_effort LIMIT 5;\"\n",
    "df_effort = pd.read_sql_query(query, conn)\n",
    "print(df_effort.head())\n"
   ],
   "metadata": {
    "colab": {
     "base_uri": "https://localhost:8080/"
    },
    "id": "1SwiiYc4rt7c",
    "outputId": "43761086-f780-47c1-e506-d0dc1474bd1b"
   },
   "execution_count": null,
   "outputs": [
    {
     "output_type": "stream",
     "name": "stdout",
     "text": [
      "                  category            owner          repo  \\\n",
      "0  configuration_libraries             juxt          aero   \n",
      "1  configuration_libraries               pd         figgy   \n",
      "2  configuration_libraries  kelseyhightower     envconfig   \n",
      "3  configuration_libraries      JeffGarland      liaw2015   \n",
      "4  configuration_libraries      taneryilmaz  libconfigini   \n",
      "\n",
      "                                              pv_vec   cos_sim  \n",
      "0  [-6.3111968e-03  7.2230858e-04 -4.5987987e-03 ...  1.000000  \n",
      "1  [ 0.00492741  0.00173693 -0.00801723  0.005146... -0.122843  \n",
      "2  [ 6.8379391e-04  8.3461199e-03 -3.9898441e-03 ... -0.129983  \n",
      "3  [ 2.9276814e-03 -7.2899782e-03 -7.2383620e-03 ...  0.240423  \n",
      "4  [-0.00100779 -0.00632555  0.00106837 -0.003088... -0.061511  \n",
      "         owner             repo  devCount  activDays  totlDays  modLOC  \\\n",
      "0  0xInfection  TIDoS-Framework         3         12        99  128963   \n",
      "1         10up     ElasticPress         3          6       363     509   \n",
      "2         10up          wp_mock         5         11      3344    1841   \n",
      "3        1and1          Troilus         5         13       349   16647   \n",
      "4          1N3           Sn1per         3         25       169  129485   \n",
      "\n",
      "        daf       effort  \n",
      "0  126698.5     5.259819  \n",
      "1     225.5     7.621617  \n",
      "2    1048.0     3.500248  \n",
      "3    7089.0     5.511662  \n",
      "4   69343.0  2847.302522  \n"
     ]
    }
   ]
  }
 ]
}
